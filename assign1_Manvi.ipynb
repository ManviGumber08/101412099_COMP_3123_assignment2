{
  "nbformat": 4,
  "nbformat_minor": 0,
  "metadata": {
    "colab": {
      "provenance": [],
      "authorship_tag": "ABX9TyOGhJqioIJbNcTs3PJw66uv",
      "include_colab_link": true
    },
    "kernelspec": {
      "name": "python3",
      "display_name": "Python 3"
    },
    "language_info": {
      "name": "python"
    }
  },
  "cells": [
    {
      "cell_type": "markdown",
      "metadata": {
        "id": "view-in-github",
        "colab_type": "text"
      },
      "source": [
        "<a href=\"https://colab.research.google.com/github/ManviGumber08/101412099_COMP_3123_assignment2/blob/master/assign1_Manvi.ipynb\" target=\"_parent\"><img src=\"https://colab.research.google.com/assets/colab-badge.svg\" alt=\"Open In Colab\"/></a>"
      ]
    },
    {
      "cell_type": "code",
      "execution_count": null,
      "metadata": {
        "id": "trkVCdM_v-Qg"
      },
      "outputs": [],
      "source": [
        "# Assignment 1 - COMP3132 - Winter 2025\n",
        "# Name : Manvi Gumber\n",
        "# Student id : 10141299"
      ]
    },
    {
      "cell_type": "code",
      "source": [
        "\n",
        "import numpy as np\n",
        "import matplotlib.pyplot as plt\n",
        "from tensorflow import keras\n",
        "from tensorflow.keras import models, layers"
      ],
      "metadata": {
        "id": "vf8-Gefn0HPn"
      },
      "execution_count": 1,
      "outputs": []
    },
    {
      "cell_type": "code",
      "source": [
        "# 1. Dimensions of train_images, train_labels, test_images, and test_labels\n",
        "fashion_mnist = keras.datasets.fashion_mnist\n",
        "(train_images, train_labels), (test_images, test_labels) = fashion_mnist.load_data()"
      ],
      "metadata": {
        "colab": {
          "base_uri": "https://localhost:8080/"
        },
        "id": "MRzUgVsN0K66",
        "outputId": "c3581e24-874d-43da-9d76-adbea999e1cd"
      },
      "execution_count": 2,
      "outputs": [
        {
          "output_type": "stream",
          "name": "stdout",
          "text": [
            "Downloading data from https://storage.googleapis.com/tensorflow/tf-keras-datasets/train-labels-idx1-ubyte.gz\n",
            "\u001b[1m29515/29515\u001b[0m \u001b[32m━━━━━━━━━━━━━━━━━━━━\u001b[0m\u001b[37m\u001b[0m \u001b[1m0s\u001b[0m 0us/step\n",
            "Downloading data from https://storage.googleapis.com/tensorflow/tf-keras-datasets/train-images-idx3-ubyte.gz\n",
            "\u001b[1m26421880/26421880\u001b[0m \u001b[32m━━━━━━━━━━━━━━━━━━━━\u001b[0m\u001b[37m\u001b[0m \u001b[1m2s\u001b[0m 0us/step\n",
            "Downloading data from https://storage.googleapis.com/tensorflow/tf-keras-datasets/t10k-labels-idx1-ubyte.gz\n",
            "\u001b[1m5148/5148\u001b[0m \u001b[32m━━━━━━━━━━━━━━━━━━━━\u001b[0m\u001b[37m\u001b[0m \u001b[1m0s\u001b[0m 1us/step\n",
            "Downloading data from https://storage.googleapis.com/tensorflow/tf-keras-datasets/t10k-images-idx3-ubyte.gz\n",
            "\u001b[1m4422102/4422102\u001b[0m \u001b[32m━━━━━━━━━━━━━━━━━━━━\u001b[0m\u001b[37m\u001b[0m \u001b[1m1s\u001b[0m 0us/step\n"
          ]
        }
      ]
    },
    {
      "cell_type": "code",
      "source": [
        "# 2. Lengths of train_labels and test_labels\n",
        "print(\"Train Images Shape:\", train_images.shape)\n",
        "print(\"Train Labels Shape:\", train_labels.shape)\n",
        "print(\"Test Images Shape:\", test_images.shape)\n",
        "print(\"Test Labels Shape:\", test_labels.shape)\n"
      ],
      "metadata": {
        "colab": {
          "base_uri": "https://localhost:8080/"
        },
        "id": "agX927qQ0Mbh",
        "outputId": "0b9b677e-d02b-44c5-c2d4-89362042ea7a"
      },
      "execution_count": 3,
      "outputs": [
        {
          "output_type": "stream",
          "name": "stdout",
          "text": [
            "Train Images Shape: (60000, 28, 28)\n",
            "Train Labels Shape: (60000,)\n",
            "Test Images Shape: (10000, 28, 28)\n",
            "Test Labels Shape: (10000,)\n"
          ]
        }
      ]
    },
    {
      "cell_type": "code",
      "source": [
        "print(\"Length of Train Labels:\", len(train_labels))\n",
        "print(\"Length of Test Labels:\", len(test_labels))"
      ],
      "metadata": {
        "colab": {
          "base_uri": "https://localhost:8080/"
        },
        "id": "LAm5qoIw0OUs",
        "outputId": "ae522af8-bf38-4a4d-8234-1084dcb6cabb"
      },
      "execution_count": 4,
      "outputs": [
        {
          "output_type": "stream",
          "name": "stdout",
          "text": [
            "Length of Train Labels: 60000\n",
            "Length of Test Labels: 10000\n"
          ]
        }
      ]
    },
    {
      "cell_type": "code",
      "source": [
        "# 3. Showing some of the train and test labels\n",
        "print(\"Sample Train Labels:\", train_labels[:10])\n",
        "print(\"Sample Test Labels:\", test_labels[:10])"
      ],
      "metadata": {
        "colab": {
          "base_uri": "https://localhost:8080/"
        },
        "id": "GSLgCz6-0Qbe",
        "outputId": "6d8be548-cf84-4d5d-880a-0536c47a5b68"
      },
      "execution_count": 5,
      "outputs": [
        {
          "output_type": "stream",
          "name": "stdout",
          "text": [
            "Sample Train Labels: [9 0 0 3 0 2 7 2 5 5]\n",
            "Sample Test Labels: [9 2 1 1 6 1 4 6 5 7]\n"
          ]
        }
      ]
    },
    {
      "cell_type": "code",
      "source": [
        "# 4. Digital content of image index 5 in the training dataset\n",
        "print(\"Image Data at Index 5 (Train):\")\n",
        "print(train_images[5])"
      ],
      "metadata": {
        "colab": {
          "base_uri": "https://localhost:8080/"
        },
        "id": "9mCU7R4X0SER",
        "outputId": "71a5ff0a-9b96-4553-ef24-07cc9d994d27"
      },
      "execution_count": 6,
      "outputs": [
        {
          "output_type": "stream",
          "name": "stdout",
          "text": [
            "Image Data at Index 5 (Train):\n",
            "[[  0   0   0   0   1   0   0   0   0  22  88 188 172 132 125 141 199 143\n",
            "    9   0   0   0   1   0   0   0   0   0]\n",
            " [  0   0   0   1   0   0  20 131 199 206 196 202 242 255 255 250 222 197\n",
            "  206 188 126  17   0   0   0   0   0   0]\n",
            " [  0   0   0   1   0  35 214 191 183 178 175 168 150 162 159 152 158 179\n",
            "  183 189 195 185  82   0   0   0   0   0]\n",
            " [  0   0   0   0   0 170 190 172 177 176 171 169 162 155 148 154 169 174\n",
            "  175 175 177 183 188  12   0   0   0   0]\n",
            " [  0   0   0   0  25 194 180 178 174 184 187 189 187 184 181 189 200 197\n",
            "  193 190 178 175 194  90   0   0   0   0]\n",
            " [  0   0   0   0  42 218 191 197 208 204 211 209 210 212 211 214 215 213\n",
            "  214 211 211 191 200 158   0   0   0   0]\n",
            " [  0   0   0   0  88 221 215 217 219 211 185 150 118 107  99  88  83  90\n",
            "  135 212 203 207 219 169   0   0   0   0]\n",
            " [  0   0   0   0   0  27 118 162  40   0   0   0  10  19  28  39  47  36\n",
            "    0   0 203 230 220 203   0   0   0   0]\n",
            " [  0   0   0   0 138 136  71  69  54 216 217 203 184 168 163 162 163 178\n",
            "  221 186  38  26   7   0   0   0   0   0]\n",
            " [  0   0   0   0  67 134 154 224 129  66  81 117 129 128 132 137 131 129\n",
            "   86  73 157 151 134 216  18   0   0   0]\n",
            " [  0   0   0   0 203 198 172 183 206 255 255 250 243 240 239 235 238 244\n",
            "  255 238 184 160  86  98   0   0   0   0]\n",
            " [  0   0   0   0 122 188 224 151 105 127  97 100 105 114 117 117 113 103\n",
            "   98 111 142 254 191 255  49   0   0   0]\n",
            " [  0   0   0   0 163 179 200  95 154 198 197 200 200 198 197 198 199 202\n",
            "  200 176  86 206 157 162  10   0   0   0]\n",
            " [  0   0   0   0 197 201 229  71 144 194 181 183 179 182 180 179 180 190\n",
            "  185 197  76 219 185 201  34   0   0   0]\n",
            " [  0   0   0   0 199 193 226  58 154 192 184 187 184 186 184 185 183 192\n",
            "  191 200  56 219 203 207  60   0   0   0]\n",
            " [  0   0   0   0 201 194 224  41 163 190 186 186 184 185 183 185 178 190\n",
            "  194 202  33 211 200 206  73   0   0   0]\n",
            " [  0   0   0   0 201 197 222  17 172 190 186 187 182 186 185 187 180 187\n",
            "  193 202  26 212 202 203  76   0   0   0]\n",
            " [  0   0   0   0 200 197 223   0 177 189 184 185 178 184 183 184 180 183\n",
            "  189 203  35 196 203 203  84   0   0   0]\n",
            " [  0   0   0   0 200 197 223   0 185 187 185 187 180 184 182 183 178 182\n",
            "  183 205  44 159 207 201  85   0   0   0]\n",
            " [  0   0   0   0 187 198 225   0 194 188 184 185 180 183 183 184 181 181\n",
            "  177 206  46 129 211 200  88   0   0   0]\n",
            " [  0   0   0   6 186 200 211   0 199 189 184 184 185 182 183 184 185 182\n",
            "  175 205  50  97 216 197  93   0   0   0]\n",
            " [  0   0   0   5 185 204 184   0 202 188 182 182 183 183 184 182 180 182\n",
            "  174 202  63  59 220 196  94   0   0   0]\n",
            " [  0   0   0   5 184 206 157   0 204 187 187 189 192 190 190 191 190 187\n",
            "  183 202  78  35 222 197  95   0   0   0]\n",
            " [  0   0   0   5 183 208 127   0 197 166 153 149 149 146 148 149 150 151\n",
            "  158 191  90   8 223 195  99   0   0   0]\n",
            " [  0   0   0   6 184 208 114   0 204 173 161 180 176 172 173 173 174 176\n",
            "  162 202 115   0 229 199 105   0   0   0]\n",
            " [  0   0   0   9 178 204 115   0 121 135 114 117 114 114 117 118 119 117\n",
            "  113 147  63   0 225 196 107   0   0   0]\n",
            " [  0   0   0  18 180 206 131   0   0   0   0   0   0   0   0   0   0   0\n",
            "    0   0   0   0 224 197 123   0   0   0]\n",
            " [  0   0   0   0 141 151  76   0   1   1   0   0   0   0   0   0   0   0\n",
            "    0   0   0   0 133 167  73   0   0   0]]\n"
          ]
        }
      ]
    },
    {
      "cell_type": "code",
      "source": [
        "# 5. Plotting the image of index 5 in the training dataset\n",
        "plt.figure()\n",
        "plt.imshow(train_images[5], cmap=plt.cm.binary)\n",
        "plt.colorbar()\n",
        "plt.show()"
      ],
      "metadata": {
        "colab": {
          "base_uri": "https://localhost:8080/",
          "height": 430
        },
        "id": "JZTP5dtl0f40",
        "outputId": "3b64b07d-551b-4be9-dc61-c4a18318d533"
      },
      "execution_count": 7,
      "outputs": [
        {
          "output_type": "display_data",
          "data": {
            "text/plain": [
              "<Figure size 640x480 with 2 Axes>"
            ],
            "image/png": "[encoded data removed]"
          },
          "metadata": {}
        }
      ]
    },
    {
      "cell_type": "code",
      "source": [
        "# 6. Label for index 5 in the train_labels\n",
        "class_labels = [\"T-shirt/top\", \"Trouser\", \"Pullover\", \"Dress\", \"Coat\", \"Sandal\", \"Shirt\", \"Sneaker\", \"Bag\", \"Ankle boot\"]\n",
        "print(\"Label for Index 5 (Train):\", train_labels[5], \"-\", class_labels[train_labels[5]])"
      ],
      "metadata": {
        "colab": {
          "base_uri": "https://localhost:8080/"
        },
        "id": "CvT70zxa0i0l",
        "outputId": "473e9612-1285-4965-a64e-f760518fa138"
      },
      "execution_count": 8,
      "outputs": [
        {
          "output_type": "stream",
          "name": "stdout",
          "text": [
            "Label for Index 5 (Train): 2 - Pullover\n"
          ]
        }
      ]
    },
    {
      "cell_type": "code",
      "source": [
        "print(\"Image Data at Index 500 (Test):\")\n",
        "print(test_images[500])"
      ],
      "metadata": {
        "colab": {
          "base_uri": "https://localhost:8080/"
        },
        "id": "PurwTcTd0kgh",
        "outputId": "f04ed2b5-7b3d-4d21-f0f6-1f58d4279b5a"
      },
      "execution_count": 9,
      "outputs": [
        {
          "output_type": "stream",
          "name": "stdout",
          "text": [
            "Image Data at Index 500 (Test):\n",
            "[[  0   0   0   0   0   0   0   0   0   0 108  93  38   0   0   0   8  76\n",
            "  140  34   0   0   0   1   1   0   0   0]\n",
            " [  0   0   0   0   0   0   0  30  92  69 192 183 149 214 177 194 227 154\n",
            "  206 143  79  46   0   0   0   0   0   0]\n",
            " [  0   0   0   0   0   0  59 127 116  85  63 184 128 104   0  10 126 138\n",
            "  145  59 104 118  86   0   0   0   0   0]\n",
            " [  0   0   0   0   0   3  99  92  81  81  54  67 222 255 209 206 178 184\n",
            "   72  69  97  97 118  24   0   2   0   0]\n",
            " [  0   0   1   1   0  60 121 138  83  64  76  68  23  35  55  52  46  36\n",
            "   65  72  72  76 102 110   0   0   0   0]\n",
            " [  0   0   0   0   0 112  89  52  89  72  67  69  81  73  60  71  64  55\n",
            "   52  73  77  88 104 108  10   0   1   0]\n",
            " [  0   0   0   0  21 110 143 131  55 181 128  54  36 158 185  44  74 150\n",
            "  154  71  96  88 105 131  50   0   0   0]\n",
            " [  0   0   2   0  52 139  90  99  77 187 134 238  68 203 127  31 158 165\n",
            "  191  73  95  83  86  91  85   0   0   0]\n",
            " [  0   0   0   0  97 104 119 135  95 137 156 209 158 185  67  91 199 150\n",
            "  218 123  78 106  91 129 106   0   0   0]\n",
            " [  0   0   0   0 109  97 129 109  80 154 183 153 178 170  78 178 228 156\n",
            "  214 135 112  92  91 101 127   4   0   0]\n",
            " [  0   0   0  10 125 102 120 146  99 189 238  76 139 111  63 238 172  48\n",
            "  249  91  79  79 146 110 111  35   0   0]\n",
            " [  0   0   0  32 147  78 156 143  55 165 175  64 142 114  62 152 107  68\n",
            "  213  90 108 155 211  74 143  53   0   0]\n",
            " [  0   0   0  46 127 105 124 246  90  69  74 101 112  79  99 112  81  96\n",
            "  184  97  77 112 172  65 119 100   0   0]\n",
            " [  0   0   0  87 143 107 112 213  70 116 230  83 154 146 150 223  65  93\n",
            "  196 121  89 146 193  92 108 105   0   0]\n",
            " [  0   0   0  97 125 125 124 157  60 119 250  70 180 158 134 177 163 107\n",
            "  225  82  85 167 178  87 123 114   0   0]\n",
            " [  0   0   0 107 102 135 142 117  78 123 229  36 121 129 119 162 223 117\n",
            "  154  88  79 186 164  68 116 129  22   0]\n",
            " [  0   0  14 116 107 133 154 124  71 156 193  85 181  92 121 167 194 185\n",
            "  119  78 101 138 163 105 118 101  27   0]\n",
            " [  0   0  15 117 108 117 180 129  76 117 189 208 211 105 161 187 190 221\n",
            "   97  98 107  93 118 104 124 128  39   0]\n",
            " [  0   0  15 112  96 114 167 115 101  81 181 170 216 154 181 193 176 220\n",
            "   72 107  93 102  97 120 129 111  50   0]\n",
            " [  0   0  23 129 110 121 178  80  85 109  70  63  76 108  92  60  68  65\n",
            "  105  90 116  91 105 102 105 110  40   0]\n",
            " [  0   0  38 119 102 142 158  97 104 100 121 119 107 121 120  89  96 127\n",
            "  101  99 107  95 139 163  98 108  53   0]\n",
            " [  0   0  21 102  97 148  93  80 124  92  97  99 109 131 126 109 107 104\n",
            "   97 104  92 106  76 165 124 129  63   0]\n",
            " [  0   0  39 106 111 130  72 104  85  96  97  96 104 129 116  88  96  99\n",
            "  101  90 116 106  44 147 127 106  42   0]\n",
            " [  0   0  45 131 158  83  51 128  86 101 108 100 110 137 123  91  93 114\n",
            "  102 108 106 117  33 125 137 101  52   0]\n",
            " [  0   0  43  87 123  79  58 116 110  81 105 119 120 140 124 115 125 110\n",
            "   90 110  83 140   8  99 152 117  69   0]\n",
            " [  0   0  49 121 155  51  42 116  95  97  95  93 108 147 117  83  90  89\n",
            "  104  97  93 131   0  67 153  95  57   0]\n",
            " [  0   0  42  93 143  19  49 112  89 101 107  99 104 145 135  97 108 112\n",
            "   96  96  99 128   0  27 152  92  62   0]\n",
            " [  0   0  58  91 143  10  34  88  44  63  72  68  64  71  70  62  69  59\n",
            "   55  77  71 112   0  20 138  89  65   0]]\n"
          ]
        }
      ]
    },
    {
      "cell_type": "code",
      "source": [
        "# 8. Plotting the image of index 500 in the testing dataset\n",
        "plt.figure()\n",
        "plt.imshow(test_images[500], cmap=plt.cm.binary)\n",
        "plt.colorbar()\n",
        "plt.show()"
      ],
      "metadata": {
        "colab": {
          "base_uri": "https://localhost:8080/",
          "height": 430
        },
        "id": "iiKzhnAg0nvw",
        "outputId": "57264c2f-ce6e-48e6-c861-588cbc07142a"
      },
      "execution_count": 10,
      "outputs": [
        {
          "output_type": "display_data",
          "data": {
            "text/plain": [
              "<Figure size 640x480 with 2 Axes>"
            ],
            "image/png": "[encoded data removed]"
          },
          "metadata": {}
        }
      ]
    },
    {
      "cell_type": "code",
      "source": [
        "# 9. Label for index 500 in the test_labels\n",
        "print(\"Label for Index 500 (Test):\", test_labels[500], \"-\", class_labels[test_labels[500]])"
      ],
      "metadata": {
        "colab": {
          "base_uri": "https://localhost:8080/"
        },
        "id": "BjjZs0zv0pGi",
        "outputId": "ebb0063f-0ac3-40de-deb7-608fdfdb6b05"
      },
      "execution_count": 11,
      "outputs": [
        {
          "output_type": "stream",
          "name": "stdout",
          "text": [
            "Label for Index 500 (Test): 2 - Pullover\n"
          ]
        }
      ]
    },
    {
      "cell_type": "code",
      "source": [
        "# 10. Import models and layers (already imported)\n",
        "\n",
        "# 11. Define a Sequential Model\n",
        "myNetwork = models.Sequential()\n"
      ],
      "metadata": {
        "id": "Uj8RM5JS0rjI"
      },
      "execution_count": 12,
      "outputs": []
    },
    {
      "cell_type": "code",
      "source": [
        "# 12. Reshape (Flatten) the Images\n",
        "myNetwork.add(layers.Flatten(input_shape=(28, 28)))\n"
      ],
      "metadata": {
        "colab": {
          "base_uri": "https://localhost:8080/"
        },
        "id": "NbPOWitE0syq",
        "outputId": "5e2ec1a2-8305-4d4e-9d0b-ef363a0aa3e3"
      },
      "execution_count": 13,
      "outputs": [
        {
          "output_type": "stream",
          "name": "stderr",
          "text": [
            "/usr/local/lib/python3.11/dist-packages/keras/src/layers/reshaping/flatten.py:37: UserWarning: Do not pass an `input_shape`/`input_dim` argument to a layer. When using Sequential models, prefer using an `Input(shape)` object as the first layer in the model instead.\n",
            "  super().__init__(**kwargs)\n"
          ]
        }
      ]
    },
    {
      "cell_type": "code",
      "source": [
        "# 13. Normalize the Images\n",
        "train_images = train_images / 255.0\n",
        "test_images = test_images / 255.0"
      ],
      "metadata": {
        "id": "kvju9KaD0uBW"
      },
      "execution_count": 14,
      "outputs": []
    },
    {
      "cell_type": "code",
      "source": [
        "# 14. Add Hidden Layer with 512 Neurons (ReLU)\n",
        "myNetwork.add(layers.Dense(512, activation='relu'))"
      ],
      "metadata": {
        "id": "EgmwJRXw017f"
      },
      "execution_count": 15,
      "outputs": []
    },
    {
      "cell_type": "code",
      "source": [
        "# 15. Add Hidden Layer with 128 Neurons (ReLU)\n",
        "myNetwork.add(layers.Dense(128, activation='relu'))"
      ],
      "metadata": {
        "id": "pnVpS0iX03N3"
      },
      "execution_count": 16,
      "outputs": []
    },
    {
      "cell_type": "code",
      "source": [
        "# 16. Add Output Layer with 10 Neurons (Softmax)\n",
        "myNetwork.add(layers.Dense(10, activation='softmax'))"
      ],
      "metadata": {
        "id": "F03ldeCH04lD"
      },
      "execution_count": 17,
      "outputs": []
    },
    {
      "cell_type": "code",
      "source": [
        "myNetwork.compile(optimizer='adam', loss='sparse_categorical_crossentropy', metrics=['accuracy'])"
      ],
      "metadata": {
        "id": "lSVbxSzl08L9"
      },
      "execution_count": 18,
      "outputs": []
    },
    {
      "cell_type": "code",
      "source": [
        "# 18. Fitting the Model (Option A)\n",
        "history_a = myNetwork.fit(train_images, train_labels, epochs=10)"
      ],
      "metadata": {
        "colab": {
          "base_uri": "https://localhost:8080/"
        },
        "id": "M0r69BOp09ng",
        "outputId": "5589034c-f094-45c5-b225-c3cdf529f58e"
      },
      "execution_count": 19,
      "outputs": [
        {
          "output_type": "stream",
          "name": "stdout",
          "text": [
            "Epoch 1/10\n",
            "\u001b[1m1875/1875\u001b[0m \u001b[32m━━━━━━━━━━━━━━━━━━━━\u001b[0m\u001b[37m\u001b[0m \u001b[1m22s\u001b[0m 11ms/step - accuracy: 0.7953 - loss: 0.5810\n",
            "Epoch 2/10\n",
            "\u001b[1m1875/1875\u001b[0m \u001b[32m━━━━━━━━━━━━━━━━━━━━\u001b[0m\u001b[37m\u001b[0m \u001b[1m17s\u001b[0m 9ms/step - accuracy: 0.8644 - loss: 0.3674\n",
            "Epoch 3/10\n",
            "\u001b[1m1875/1875\u001b[0m \u001b[32m━━━━━━━━━━━━━━━━━━━━\u001b[0m\u001b[37m\u001b[0m \u001b[1m17s\u001b[0m 9ms/step - accuracy: 0.8794 - loss: 0.3276\n",
            "Epoch 4/10\n",
            "\u001b[1m1875/1875\u001b[0m \u001b[32m━━━━━━━━━━━━━━━━━━━━\u001b[0m\u001b[37m\u001b[0m \u001b[1m20s\u001b[0m 9ms/step - accuracy: 0.8867 - loss: 0.3009\n",
            "Epoch 5/10\n",
            "\u001b[1m1875/1875\u001b[0m \u001b[32m━━━━━━━━━━━━━━━━━━━━\u001b[0m\u001b[37m\u001b[0m \u001b[1m17s\u001b[0m 9ms/step - accuracy: 0.8981 - loss: 0.2739\n",
            "Epoch 6/10\n",
            "\u001b[1m1875/1875\u001b[0m \u001b[32m━━━━━━━━━━━━━━━━━━━━\u001b[0m\u001b[37m\u001b[0m \u001b[1m20s\u001b[0m 9ms/step - accuracy: 0.9016 - loss: 0.2660\n",
            "Epoch 7/10\n",
            "\u001b[1m1875/1875\u001b[0m \u001b[32m━━━━━━━━━━━━━━━━━━━━\u001b[0m\u001b[37m\u001b[0m \u001b[1m20s\u001b[0m 9ms/step - accuracy: 0.9042 - loss: 0.2539\n",
            "Epoch 8/10\n",
            "\u001b[1m1875/1875\u001b[0m \u001b[32m━━━━━━━━━━━━━━━━━━━━\u001b[0m\u001b[37m\u001b[0m \u001b[1m21s\u001b[0m 9ms/step - accuracy: 0.9110 - loss: 0.2384\n",
            "Epoch 9/10\n",
            "\u001b[1m1875/1875\u001b[0m \u001b[32m━━━━━━━━━━━━━━━━━━━━\u001b[0m\u001b[37m\u001b[0m \u001b[1m20s\u001b[0m 8ms/step - accuracy: 0.9112 - loss: 0.2316\n",
            "Epoch 10/10\n",
            "\u001b[1m1875/1875\u001b[0m \u001b[32m━━━━━━━━━━━━━━━━━━━━\u001b[0m\u001b[37m\u001b[0m \u001b[1m16s\u001b[0m 9ms/step - accuracy: 0.9149 - loss: 0.2256\n"
          ]
        }
      ]
    },
    {
      "cell_type": "code",
      "source": [
        "myNetwork.compile(optimizer='rmsprop', loss='categorical_crossentropy', metrics=['accuracy'])"
      ],
      "metadata": {
        "id": "Aox2Vnc20_Lh"
      },
      "execution_count": 20,
      "outputs": []
    },
    {
      "cell_type": "code",
      "source": [
        "# Adjust labels for categorical_crossentropy\n",
        "train_labels_cat = keras.utils.to_categorical(train_labels, 10)"
      ],
      "metadata": {
        "id": "DWqUsRuM1A4r"
      },
      "execution_count": 21,
      "outputs": []
    },
    {
      "cell_type": "code",
      "source": [
        "# Fitting the Model (Option B)\n",
        "history_b = myNetwork.fit(train_images, train_labels_cat, epochs=10)"
      ],
      "metadata": {
        "colab": {
          "base_uri": "https://localhost:8080/"
        },
        "id": "7NOvl2O61CWB",
        "outputId": "999633b4-c0d7-4139-f47e-46ca784d0528"
      },
      "execution_count": 22,
      "outputs": [
        {
          "output_type": "stream",
          "name": "stdout",
          "text": [
            "Epoch 1/10\n",
            "\u001b[1m1875/1875\u001b[0m \u001b[32m━━━━━━━━━━━━━━━━━━━━\u001b[0m\u001b[37m\u001b[0m \u001b[1m16s\u001b[0m 8ms/step - accuracy: 0.9196 - loss: 0.2118\n",
            "Epoch 2/10\n",
            "\u001b[1m1875/1875\u001b[0m \u001b[32m━━━━━━━━━━━━━━━━━━━━\u001b[0m\u001b[37m\u001b[0m \u001b[1m20s\u001b[0m 8ms/step - accuracy: 0.9205 - loss: 0.2167\n",
            "Epoch 3/10\n",
            "\u001b[1m1875/1875\u001b[0m \u001b[32m━━━━━━━━━━━━━━━━━━━━\u001b[0m\u001b[37m\u001b[0m \u001b[1m22s\u001b[0m 9ms/step - accuracy: 0.9188 - loss: 0.2215\n",
            "Epoch 4/10\n",
            "\u001b[1m1875/1875\u001b[0m \u001b[32m━━━━━━━━━━━━━━━━━━━━\u001b[0m\u001b[37m\u001b[0m \u001b[1m16s\u001b[0m 8ms/step - accuracy: 0.9184 - loss: 0.2274\n",
            "Epoch 5/10\n",
            "\u001b[1m1875/1875\u001b[0m \u001b[32m━━━━━━━━━━━━━━━━━━━━\u001b[0m\u001b[37m\u001b[0m \u001b[1m20s\u001b[0m 8ms/step - accuracy: 0.9201 - loss: 0.2301\n",
            "Epoch 6/10\n",
            "\u001b[1m1875/1875\u001b[0m \u001b[32m━━━━━━━━━━━━━━━━━━━━\u001b[0m\u001b[37m\u001b[0m \u001b[1m15s\u001b[0m 8ms/step - accuracy: 0.9200 - loss: 0.2317\n",
            "Epoch 7/10\n",
            "\u001b[1m1875/1875\u001b[0m \u001b[32m━━━━━━━━━━━━━━━━━━━━\u001b[0m\u001b[37m\u001b[0m \u001b[1m15s\u001b[0m 8ms/step - accuracy: 0.9196 - loss: 0.2348\n",
            "Epoch 8/10\n",
            "\u001b[1m1875/1875\u001b[0m \u001b[32m━━━━━━━━━━━━━━━━━━━━\u001b[0m\u001b[37m\u001b[0m \u001b[1m15s\u001b[0m 8ms/step - accuracy: 0.9195 - loss: 0.2320\n",
            "Epoch 9/10\n",
            "\u001b[1m1875/1875\u001b[0m \u001b[32m━━━━━━━━━━━━━━━━━━━━\u001b[0m\u001b[37m\u001b[0m \u001b[1m20s\u001b[0m 8ms/step - accuracy: 0.9213 - loss: 0.2286\n",
            "Epoch 10/10\n",
            "\u001b[1m1875/1875\u001b[0m \u001b[32m━━━━━━━━━━━━━━━━━━━━\u001b[0m\u001b[37m\u001b[0m \u001b[1m25s\u001b[0m 10ms/step - accuracy: 0.9199 - loss: 0.2310\n"
          ]
        }
      ]
    },
    {
      "cell_type": "code",
      "source": [
        "# 21. Evaluating the Model\n",
        "loss_a, accuracy_a = myNetwork.evaluate(test_images, keras.utils.to_categorical(test_labels, 10))\n",
        "print(\"Accuracy (Option A):\", accuracy_a)"
      ],
      "metadata": {
        "colab": {
          "base_uri": "https://localhost:8080/"
        },
        "id": "1VrwRW8t1D20",
        "outputId": "5fce0c99-6711-4929-82c5-e40b30609738"
      },
      "execution_count": 23,
      "outputs": [
        {
          "output_type": "stream",
          "name": "stdout",
          "text": [
            "\u001b[1m313/313\u001b[0m \u001b[32m━━━━━━━━━━━━━━━━━━━━\u001b[0m\u001b[37m\u001b[0m \u001b[1m1s\u001b[0m 3ms/step - accuracy: 0.8866 - loss: 0.5810\n",
            "Accuracy (Option A): 0.885200023651123\n"
          ]
        }
      ]
    },
    {
      "cell_type": "code",
      "source": [
        "loss_b, accuracy_b = myNetwork.evaluate(test_images, keras.utils.to_categorical(test_labels, 10))\n",
        "print(\"Accuracy (Option B):\", accuracy_b)"
      ],
      "metadata": {
        "colab": {
          "base_uri": "https://localhost:8080/"
        },
        "id": "rKI26_7P1Fwa",
        "outputId": "bb7628e9-364c-4a90-d0d7-399adc400e09"
      },
      "execution_count": 24,
      "outputs": [
        {
          "output_type": "stream",
          "name": "stdout",
          "text": [
            "\u001b[1m313/313\u001b[0m \u001b[32m━━━━━━━━━━━━━━━━━━━━\u001b[0m\u001b[37m\u001b[0m \u001b[1m1s\u001b[0m 4ms/step - accuracy: 0.8866 - loss: 0.5810\n",
            "Accuracy (Option B): 0.885200023651123\n"
          ]
        }
      ]
    }
  ]
}